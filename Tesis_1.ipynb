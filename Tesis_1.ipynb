{
  "cells": [
    {
      "cell_type": "markdown",
      "metadata": {
        "id": "view-in-github",
        "colab_type": "text"
      },
      "source": [
        "<a href=\"https://colab.research.google.com/github/pedrorostagno/tesis/blob/main/Tesis_1.ipynb\" target=\"_parent\"><img src=\"https://colab.research.google.com/assets/colab-badge.svg\" alt=\"Open In Colab\"/></a>"
      ]
    },
    {
      "cell_type": "code",
      "execution_count": null,
      "metadata": {
        "colab": {
          "base_uri": "https://localhost:8080/"
        },
        "id": "xePy61K1FUjq",
        "outputId": "4d5c49e9-a3eb-4078-9482-9a64a4fb8bfa"
      },
      "outputs": [
        {
          "output_type": "stream",
          "name": "stdout",
          "text": [
            "Drive already mounted at /content/drive; to attempt to forcibly remount, call drive.mount(\"/content/drive\", force_remount=True).\n"
          ]
        }
      ],
      "source": [
        "from google.colab import drive\n",
        "drive.mount('/content/drive')"
      ]
    },
    {
      "cell_type": "code",
      "execution_count": null,
      "metadata": {
        "id": "MdAdU6l7GIFI"
      },
      "outputs": [],
      "source": [
        "dataset_path = '/content/drive/Othercomputers/My Mac/Data/train'"
      ]
    },
    {
      "cell_type": "code",
      "execution_count": null,
      "metadata": {
        "id": "EEaET5xZP4Q4"
      },
      "outputs": [],
      "source": [
        "import torch\n",
        "import torch.nn as nn\n",
        "import torch.optim as optim\n",
        "from torch.utils.data import Dataset, DataLoader\n",
        "from torchvision import models, transforms\n",
        "import os\n",
        "from PIL import Image\n",
        "import numpy as np\n",
        "import pickle"
      ]
    },
    {
      "cell_type": "code",
      "execution_count": null,
      "metadata": {
        "id": "pbIix4cXU6cG"
      },
      "outputs": [],
      "source": [
        "\n",
        "class CelebASpoofDataset(Dataset):\n",
        "    def __init__(self, root_dir, transform=None, cache_file=None, max_samples=None):\n",
        "        \"\"\"\n",
        "        root_dir: Ruta raíz del dataset.\n",
        "        transform: Transformaciones a aplicar a cada imagen.\n",
        "        cache_file: Ruta al archivo de cache (opcional).\n",
        "        max_samples: Número máximo de muestras a cargar (opcional).\n",
        "        \"\"\"\n",
        "        self.root_dir = root_dir\n",
        "        self.transform = transform\n",
        "        self.image_paths = []\n",
        "        self.labels = []\n",
        "\n",
        "        if cache_file is not None and os.path.exists(cache_file):\n",
        "            print(\"Cargando dataset desde cache...\")\n",
        "            with open(cache_file, 'rb') as f:\n",
        "                self.image_paths, self.labels = pickle.load(f)\n",
        "        else:\n",
        "            print(\"Generando la lista de imágenes usando os.scandir...\")\n",
        "            # Variable para determinar si ya se alcanzó el máximo de muestras\n",
        "            max_reached = False\n",
        "            with os.scandir(root_dir) as subjects:\n",
        "                for subject in subjects:\n",
        "                    if max_samples is not None and len(self.image_paths) >= max_samples:\n",
        "                        max_reached = True\n",
        "                        break\n",
        "                    if subject.is_dir():\n",
        "                        subject_path = subject.path\n",
        "                        with os.scandir(subject_path) as type_entries:\n",
        "                            for entry in type_entries:\n",
        "                                if max_samples is not None and len(self.image_paths) >= max_samples:\n",
        "                                    max_reached = True\n",
        "                                    break\n",
        "                                if entry.is_dir():\n",
        "                                    image_type = entry.name  # 'live' o 'spoof'\n",
        "                                    with os.scandir(entry.path) as files:\n",
        "                                        for file_entry in files:\n",
        "                                            if file_entry.is_file() and file_entry.name.lower().endswith(('.jpg', '.png')):\n",
        "                                                self.image_paths.append(file_entry.path)\n",
        "                                                self.labels.append(0 if image_type == 'spoof' else 1)\n",
        "                                                if max_samples is not None and len(self.image_paths) >= max_samples:\n",
        "                                                    max_reached = True\n",
        "                                                    break\n",
        "                                        if max_samples is not None and len(self.image_paths) >= max_samples:\n",
        "                                            break\n",
        "                            if max_samples is not None and len(self.image_paths) >= max_samples:\n",
        "                                break\n",
        "                    if max_reached:\n",
        "                        break\n",
        "            # Guardar en cache si se especifica\n",
        "            if cache_file is not None:\n",
        "                with open(cache_file, 'wb') as f:\n",
        "                    pickle.dump((self.image_paths, self.labels), f)\n",
        "                print(\"Cache guardado en\", cache_file)\n",
        "\n",
        "    def __len__(self):\n",
        "        return len(self.image_paths)\n",
        "\n",
        "    def __getitem__(self, idx):\n",
        "        image_path = self.image_paths[idx]\n",
        "        image = Image.open(image_path).convert('RGB')\n",
        "        label = self.labels[idx]\n",
        "        if self.transform:\n",
        "            image = self.transform(image)\n",
        "        return image, label\n"
      ]
    },
    {
      "cell_type": "code",
      "execution_count": null,
      "metadata": {
        "id": "gNnqs83EToA5"
      },
      "outputs": [],
      "source": [
        "# Paths to each split\n",
        "train_data_dir = '/content/drive/Othercomputers/My Mac/Data/train/train'\n",
        "val_data_dir = '/content/drive/Othercomputers/My Mac/Data/train/val'\n",
        "test_data_dir = '/content/drive/Othercomputers/My Mac/Data/train/test'\n",
        "\n",
        "img_width, img_height = 224, 224\n",
        "batch_size = 32\n",
        "\n",
        "data_transforms = {\n",
        "    'train': transforms.Compose([\n",
        "        transforms.Resize((img_width, img_height)),\n",
        "        transforms.RandomHorizontalFlip(),\n",
        "        transforms.ToTensor(),\n",
        "        transforms.Normalize([0.485, 0.456, 0.406], [0.229, 0.224, 0.225])\n",
        "    ]),\n",
        "    'val': transforms.Compose([\n",
        "        transforms.Resize((img_width, img_height)),\n",
        "        transforms.ToTensor(),\n",
        "        transforms.Normalize([0.485, 0.456, 0.406], [0.229, 0.224, 0.225])\n",
        "    ]),\n",
        "    'test': transforms.Compose([\n",
        "        transforms.Resize((img_width, img_height)),\n",
        "        transforms.ToTensor(),\n",
        "        transforms.Normalize([0.485, 0.456, 0.406], [0.229, 0.224, 0.225])\n",
        "    ]),\n",
        "}\n",
        "\n"
      ]
    },
    {
      "cell_type": "code",
      "execution_count": null,
      "metadata": {
        "id": "HWLu2YKT1ky6",
        "colab": {
          "base_uri": "https://localhost:8080/"
        },
        "outputId": "15c3d95a-1d5a-47c4-d633-4fe95ec2a3e7"
      },
      "outputs": [
        {
          "output_type": "stream",
          "name": "stdout",
          "text": [
            "Cargando dataset desde cache...\n",
            "Cargando dataset desde cache...\n",
            "Generando la lista de imágenes usando os.scandir...\n",
            "Cache guardado en /content/drive/MyDrive/Tesis UTDT/test_dataset_cache.pkl\n"
          ]
        }
      ],
      "source": [
        "# Datasets con max_samples\n",
        "train_dataset = CelebASpoofDataset(\n",
        "    root_dir=train_data_dir,\n",
        "    transform=data_transforms['train'],\n",
        "    cache_file='/content/drive/MyDrive/Tesis UTDT/train_dataset_cache.pkl',\n",
        "    max_samples=5000\n",
        ")\n",
        "val_dataset = CelebASpoofDataset(\n",
        "    root_dir=val_data_dir,\n",
        "    transform=data_transforms['val'],\n",
        "    cache_file='/content/drive/MyDrive/Tesis UTDT/val_dataset_cache.pkl',\n",
        "    max_samples=1000\n",
        ")\n",
        "test_dataset = CelebASpoofDataset(\n",
        "    root_dir=test_data_dir,\n",
        "    transform=data_transforms['test'],\n",
        "    cache_file='/content/drive/MyDrive/Tesis UTDT/test_dataset_cache.pkl',\n",
        "    max_samples=1000\n",
        ")\n",
        "\n",
        "# DataLoaders\n",
        "train_loader = DataLoader(train_dataset, batch_size=batch_size, shuffle=True, num_workers=8, pin_memory=True)\n",
        "val_loader = DataLoader(val_dataset, batch_size=batch_size, shuffle=False, num_workers=8, pin_memory=True)\n",
        "test_loader = DataLoader(test_dataset, batch_size=batch_size, shuffle=False, num_workers=8, pin_memory=True)\n",
        "\n"
      ]
    },
    {
      "cell_type": "code",
      "execution_count": null,
      "metadata": {
        "id": "pbloOM1mVavx",
        "colab": {
          "base_uri": "https://localhost:8080/"
        },
        "outputId": "2ef6536b-e2be-40c0-95cc-4fe1490d3511"
      },
      "outputs": [
        {
          "output_type": "stream",
          "name": "stderr",
          "text": [
            "/usr/local/lib/python3.11/dist-packages/torchvision/models/_utils.py:208: UserWarning: The parameter 'pretrained' is deprecated since 0.13 and may be removed in the future, please use 'weights' instead.\n",
            "  warnings.warn(\n",
            "/usr/local/lib/python3.11/dist-packages/torchvision/models/_utils.py:223: UserWarning: Arguments other than a weight enum or `None` for 'weights' are deprecated since 0.13 and may be removed in the future. The current behavior is equivalent to passing `weights=MobileNet_V2_Weights.IMAGENET1K_V1`. You can also use `weights=MobileNet_V2_Weights.DEFAULT` to get the most up-to-date weights.\n",
            "  warnings.warn(msg)\n",
            "Downloading: \"https://download.pytorch.org/models/mobilenet_v2-b0353104.pth\" to /root/.cache/torch/hub/checkpoints/mobilenet_v2-b0353104.pth\n",
            "100%|██████████| 13.6M/13.6M [00:00<00:00, 210MB/s]\n"
          ]
        }
      ],
      "source": [
        "model = models.mobilenet_v2(pretrained=True)\n",
        "num_ftrs = model.classifier[1].in_features\n",
        "model.classifier[1] = nn.Linear(num_ftrs, 2)  # 2 classes: real and fake\n",
        "\n",
        "criterion = nn.CrossEntropyLoss()\n",
        "optimizer = optim.Adam(model.parameters(), lr=0.001)\n"
      ]
    },
    {
      "cell_type": "code",
      "execution_count": null,
      "metadata": {
        "id": "65R-GiOCVhld"
      },
      "outputs": [],
      "source": [
        "# Device (GPU or CPU)\n",
        "device = torch.device(\"cuda:0\" if torch.cuda.is_available() else \"cpu\")\n",
        "model = model.to(device)"
      ]
    },
    {
      "cell_type": "code",
      "source": [
        "# Calcular la distribución de clases a partir del dataset de entrenamiento\n",
        "labels = np.array(train_dataset.labels)\n",
        "unique, counts = np.unique(labels, return_counts=True)\n",
        "print(f\"Distribución de clases en entrenamiento: {dict(zip(unique, counts))}\")\n",
        "\n",
        "total = counts.sum()\n",
        "# Pesos inversos: mayor peso para la clase menos representada\n",
        "weights = [total / c for c in counts]\n",
        "weights_tensor = torch.FloatTensor(weights).to(device)\n",
        "print(\"Pesos de clases:\", weights_tensor)\n",
        "\n",
        "# Definir la función de pérdida ponderada\n",
        "criterion = nn.CrossEntropyLoss(weight=weights_tensor)\n",
        "\n",
        "# El resto de tu código (modelo, optimizador, bucle de entrenamiento) sigue igual.\n"
      ],
      "metadata": {
        "colab": {
          "base_uri": "https://localhost:8080/"
        },
        "id": "w-sj1DyKezfH",
        "outputId": "0ef7669b-fa27-4f4d-e6c6-74441069be73"
      },
      "execution_count": null,
      "outputs": [
        {
          "output_type": "stream",
          "name": "stdout",
          "text": [
            "Distribución de clases en entrenamiento: {0: 3222, 1: 1778}\n",
            "Pesos de clases: tensor([1.5518, 2.8121], device='cuda:0')\n"
          ]
        }
      ]
    },
    {
      "cell_type": "code",
      "execution_count": null,
      "metadata": {
        "colab": {
          "base_uri": "https://localhost:8080/"
        },
        "id": "O1h-PozJVmKQ",
        "outputId": "99fbc934-9c2f-41ea-92a4-1542f08ec835"
      },
      "outputs": [
        {
          "output_type": "stream",
          "name": "stdout",
          "text": [
            "Epoch 1/10\n",
            "----------\n",
            "Batch 100/157 - Loss: 0.0448 - Acc: 0.9688\n",
            "Train Loss: 0.0829 Acc: 0.9700\n",
            "Val Loss: 0.2979 Acc: 0.8780\n",
            "Checkpoint saved to /content/drive/MyDrive/Tesis UTDT/checkpoint_epoch_1.pth\n",
            "Epoch 2/10\n",
            "----------\n",
            "Batch 100/157 - Loss: 0.0153 - Acc: 1.0000\n",
            "Train Loss: 0.0412 Acc: 0.9866\n",
            "Val Loss: 0.1330 Acc: 0.9320\n",
            "Checkpoint saved to /content/drive/MyDrive/Tesis UTDT/checkpoint_epoch_2.pth\n",
            "Epoch 3/10\n",
            "----------\n",
            "Batch 100/157 - Loss: 0.1039 - Acc: 0.9688\n",
            "Train Loss: 0.0299 Acc: 0.9892\n",
            "Val Loss: 0.2624 Acc: 0.9250\n",
            "Checkpoint saved to /content/drive/MyDrive/Tesis UTDT/checkpoint_epoch_3.pth\n",
            "Epoch 4/10\n",
            "----------\n",
            "Batch 100/157 - Loss: 0.0250 - Acc: 0.9688\n",
            "Train Loss: 0.0352 Acc: 0.9882\n",
            "Val Loss: 0.1476 Acc: 0.9750\n",
            "Checkpoint saved to /content/drive/MyDrive/Tesis UTDT/checkpoint_epoch_4.pth\n",
            "Epoch 5/10\n",
            "----------\n",
            "Batch 100/157 - Loss: 0.1123 - Acc: 0.9375\n",
            "Train Loss: 0.0245 Acc: 0.9918\n",
            "Val Loss: 0.2124 Acc: 0.9200\n",
            "Checkpoint saved to /content/drive/MyDrive/Tesis UTDT/checkpoint_epoch_5.pth\n",
            "Epoch 6/10\n",
            "----------\n",
            "Batch 100/157 - Loss: 0.0001 - Acc: 1.0000\n",
            "Train Loss: 0.0176 Acc: 0.9944\n",
            "Val Loss: 0.1443 Acc: 0.9410\n",
            "Checkpoint saved to /content/drive/MyDrive/Tesis UTDT/checkpoint_epoch_6.pth\n",
            "Epoch 7/10\n",
            "----------\n",
            "Batch 100/157 - Loss: 0.0001 - Acc: 1.0000\n",
            "Train Loss: 0.0325 Acc: 0.9912\n",
            "Val Loss: 0.1413 Acc: 0.9330\n",
            "Checkpoint saved to /content/drive/MyDrive/Tesis UTDT/checkpoint_epoch_7.pth\n",
            "Epoch 8/10\n",
            "----------\n",
            "Batch 100/157 - Loss: 0.0063 - Acc: 1.0000\n",
            "Train Loss: 0.0140 Acc: 0.9958\n",
            "Val Loss: 0.0386 Acc: 0.9770\n",
            "Checkpoint saved to /content/drive/MyDrive/Tesis UTDT/checkpoint_epoch_8.pth\n",
            "Epoch 9/10\n",
            "----------\n",
            "Batch 100/157 - Loss: 0.0000 - Acc: 1.0000\n",
            "Train Loss: 0.0079 Acc: 0.9964\n",
            "Val Loss: 0.1857 Acc: 0.9400\n",
            "Checkpoint saved to /content/drive/MyDrive/Tesis UTDT/checkpoint_epoch_9.pth\n",
            "Epoch 10/10\n",
            "----------\n",
            "Batch 100/157 - Loss: 0.0061 - Acc: 1.0000\n",
            "Train Loss: 0.0100 Acc: 0.9966\n",
            "Val Loss: 0.1218 Acc: 0.9460\n",
            "Checkpoint saved to /content/drive/MyDrive/Tesis UTDT/checkpoint_epoch_10.pth\n",
            "Finished Training\n",
            "Final model saved as real_fake_detection_model.pth\n"
          ]
        }
      ],
      "source": [
        "num_epochs = 10\n",
        "checkpoint_interval = 1\n",
        "\n",
        "for epoch in range(num_epochs):\n",
        "    print(f'Epoch {epoch + 1}/{num_epochs}')\n",
        "    print('-' * 10)\n",
        "\n",
        "    # Training phase\n",
        "    model.train()\n",
        "    running_loss = 0.0\n",
        "    running_corrects = 0\n",
        "    total_samples = 0\n",
        "\n",
        "    for i, (inputs, labels) in enumerate(train_loader):\n",
        "        inputs = inputs.to(device)\n",
        "        labels = labels.to(device)\n",
        "\n",
        "        optimizer.zero_grad()\n",
        "\n",
        "        outputs = model(inputs)\n",
        "        _, preds = torch.max(outputs, 1)\n",
        "        loss = criterion(outputs, labels)\n",
        "\n",
        "        loss.backward()\n",
        "        optimizer.step()\n",
        "\n",
        "        running_loss += loss.item() * inputs.size(0)\n",
        "        running_corrects += torch.sum(preds == labels.data)\n",
        "        total_samples += inputs.size(0)\n",
        "        # Print progress every 100 batches\n",
        "\n",
        "        if (i + 1) % 100 == 0:\n",
        "          print(f'Batch {i + 1}/{len(train_loader)} - Loss: {loss.item():.4f} - Acc: {(torch.sum(preds == labels.data) / inputs.size(0)):.4f}')\n",
        "\n",
        "    epoch_loss = running_loss / total_samples\n",
        "    epoch_acc = running_corrects.double() / total_samples\n",
        "    print(f'Train Loss: {epoch_loss:.4f} Acc: {epoch_acc:.4f}')\n",
        "\n",
        "    # Validation phase\n",
        "    model.eval()\n",
        "    val_loss = 0.0\n",
        "    val_corrects = 0\n",
        "    val_samples = 0\n",
        "\n",
        "    with torch.no_grad():\n",
        "        for inputs, labels in val_loader:\n",
        "            inputs, labels = inputs.to(device), labels.to(device)\n",
        "\n",
        "            outputs = model(inputs)\n",
        "            _, preds = torch.max(outputs, 1)\n",
        "            loss = criterion(outputs, labels)\n",
        "\n",
        "            val_loss += loss.item() * inputs.size(0)\n",
        "            val_corrects += torch.sum(preds == labels.data)\n",
        "            val_samples += inputs.size(0)\n",
        "\n",
        "    val_epoch_loss = val_loss / val_samples\n",
        "    val_epoch_acc = val_corrects.double() / val_samples\n",
        "    print(f'Val Loss: {val_epoch_loss:.4f} Acc: {val_epoch_acc:.4f}')\n",
        "\n",
        "    # Save checkpoint\n",
        "    if (epoch + 1) % checkpoint_interval == 0:\n",
        "        checkpoint_path = f'/content/drive/MyDrive/Tesis UTDT/checkpoint_epoch_{epoch + 1}.pth'\n",
        "        torch.save({\n",
        "            'epoch': epoch + 1,\n",
        "            'model_state_dict': model.state_dict(),\n",
        "            'optimizer_state_dict': optimizer.state_dict(),\n",
        "            'train_loss': epoch_loss,\n",
        "            'train_acc': epoch_acc.item(),\n",
        "            'val_loss': val_epoch_loss,\n",
        "            'val_acc': val_epoch_acc.item(),\n",
        "        }, checkpoint_path)\n",
        "        print(f'Checkpoint saved to {checkpoint_path}')\n",
        "\n",
        "print('Finished Training')\n",
        "\n",
        "# Save the trained model\n",
        "final_model_path = '/content/drive/MyDrive/Tesis UTDT/real_fake_detection_model.pth'\n",
        "torch.save(model.state_dict(), final_model_path)\n",
        "print('Final model saved as real_fake_detection_model.pth')"
      ]
    },
    {
      "cell_type": "code",
      "source": [
        "import os\n",
        "import torch\n",
        "import torch.nn as nn\n",
        "import torch.optim as optim\n",
        "from torch.utils.data import DataLoader\n",
        "from torch.cuda.amp import autocast, GradScaler\n",
        "from torch.utils.tensorboard import SummaryWriter\n",
        "import numpy as np\n",
        "import sklearn.metrics as metrics\n",
        "import time\n",
        "\n",
        "# Función para entrenar una época (Mixed Precision Training)\n",
        "def train_epoch(model, train_loader, optimizer, criterion, device, scaler):\n",
        "    model.train()\n",
        "    running_loss = 0.0\n",
        "    running_corrects = 0\n",
        "    total_samples = 0\n",
        "\n",
        "    for inputs, labels in train_loader:\n",
        "        inputs = inputs.to(device)\n",
        "        labels = labels.to(device)\n",
        "\n",
        "        optimizer.zero_grad()\n",
        "\n",
        "        with autocast():\n",
        "            outputs = model(inputs)\n",
        "            loss = criterion(outputs, labels)\n",
        "\n",
        "        scaler.scale(loss).backward()\n",
        "        scaler.step(optimizer)\n",
        "        scaler.update()\n",
        "\n",
        "        _, preds = torch.max(outputs, 1)\n",
        "        running_loss += loss.item() * inputs.size(0)\n",
        "        running_corrects += torch.sum(preds == labels.data)\n",
        "        total_samples += inputs.size(0)\n",
        "\n",
        "    epoch_loss = running_loss / total_samples\n",
        "    epoch_acc = running_corrects.double() / total_samples\n",
        "    return epoch_loss, epoch_acc\n",
        "\n",
        "# Función para validar una época y calcular métricas adicionales\n",
        "def validate_epoch(model, val_loader, criterion, device):\n",
        "    model.eval()\n",
        "    val_loss = 0.0\n",
        "    val_corrects = 0\n",
        "    total_samples = 0\n",
        "    all_preds = []\n",
        "    all_labels = []\n",
        "\n",
        "    with torch.no_grad():\n",
        "        for inputs, labels in val_loader:\n",
        "            inputs, labels = inputs.to(device), labels.to(device)\n",
        "            with autocast():\n",
        "                outputs = model(inputs)\n",
        "                loss = criterion(outputs, labels)\n",
        "\n",
        "            _, preds = torch.max(outputs, 1)\n",
        "            val_loss += loss.item() * inputs.size(0)\n",
        "            val_corrects += torch.sum(preds == labels.data)\n",
        "            total_samples += inputs.size(0)\n",
        "\n",
        "            all_preds.extend(preds.cpu().numpy())\n",
        "            all_labels.extend(labels.cpu().numpy())\n",
        "\n",
        "    epoch_loss = val_loss / total_samples\n",
        "    epoch_acc = val_corrects.double() / total_samples\n",
        "    # Reporte de métricas adicionales (por ejemplo, F1-score macro)\n",
        "    report = metrics.classification_report(all_labels, all_preds, output_dict=True, zero_division=0)\n",
        "\n",
        "    return epoch_loss, epoch_acc, report, all_preds, all_labels\n",
        "\n",
        "# Función principal de entrenamiento que integra early stopping y TensorBoard\n",
        "def train_model(model, train_loader, val_loader, criterion, optimizer, device, num_epochs=10, patience=3, checkpoint_interval=1, log_dir='logs/exp1'):\n",
        "    writer = SummaryWriter(log_dir=log_dir)\n",
        "    scaler = GradScaler()\n",
        "    best_val_loss = float('inf')\n",
        "    trigger_times = 0\n",
        "\n",
        "    for epoch in range(num_epochs):\n",
        "        print(f'Epoch {epoch+1}/{num_epochs}')\n",
        "        print('-' * 10)\n",
        "\n",
        "        # Entrenamiento\n",
        "        train_loss, train_acc = train_epoch(model, train_loader, optimizer, criterion, device, scaler)\n",
        "        print(f'Train Loss: {train_loss:.4f}  Acc: {train_acc:.4f}')\n",
        "\n",
        "        # Validación\n",
        "        val_loss, val_acc, report, all_preds, all_labels = validate_epoch(model, val_loader, criterion, device)\n",
        "        print(f'Val Loss: {val_loss:.4f}  Acc: {val_acc:.4f}')\n",
        "        print(metrics.classification_report(all_labels, all_preds, target_names=[\"spoof\", \"live\"], zero_division=0))\n",
        "\n",
        "        # Registro de métricas en TensorBoard\n",
        "        writer.add_scalar('Loss/train', train_loss, epoch)\n",
        "        writer.add_scalar('Loss/val', val_loss, epoch)\n",
        "        writer.add_scalar('Acc/train', train_acc, epoch)\n",
        "        writer.add_scalar('Acc/val', val_acc, epoch)\n",
        "        macro_f1 = report['macro avg']['f1-score']\n",
        "        writer.add_scalar('F1/macro_val', macro_f1, epoch)\n",
        "\n",
        "        # Early Stopping: Si la pérdida de validación mejora, se guarda el mejor modelo.\n",
        "        if val_loss < best_val_loss:\n",
        "            best_val_loss = val_loss\n",
        "            trigger_times = 0\n",
        "            torch.save(model.state_dict(), 'best_model.pth')\n",
        "            print('Best model saved')\n",
        "        else:\n",
        "            trigger_times += 1\n",
        "            print(f'Early stopping trigger: {trigger_times}/{patience}')\n",
        "            if trigger_times >= patience:\n",
        "                print(\"Early stopping!\")\n",
        "                break\n",
        "\n",
        "        # Guardar checkpoint cada checkpoint_interval épocas\n",
        "        if (epoch+1) % checkpoint_interval == 0:\n",
        "            checkpoint_path = f'checkpoint_epoch_{epoch+1}.pth'\n",
        "            torch.save({\n",
        "                'epoch': epoch+1,\n",
        "                'model_state_dict': model.state_dict(),\n",
        "                'optimizer_state_dict': optimizer.state_dict(),\n",
        "                'train_loss': train_loss,\n",
        "                'train_acc': train_acc.item(),\n",
        "                'val_loss': val_loss,\n",
        "                'val_acc': val_acc.item(),\n",
        "            }, checkpoint_path)\n",
        "            print(f'Checkpoint saved to {checkpoint_path}')\n",
        "\n",
        "    writer.close()\n",
        "    return model\n",
        "\n",
        "# Ejemplo de uso:\n",
        "# Asumiendo que ya tienes definido:\n",
        "# - model (por ejemplo, MobileNetV2 modificado)\n",
        "# - train_loader, val_loader (DataLoaders)\n",
        "# - criterion (por ejemplo, nn.CrossEntropyLoss con o sin pesos)\n",
        "# - optimizer (por ejemplo, optim.Adam(model.parameters(), lr=0.001))\n",
        "# - device (por ejemplo, torch.device(\"cuda:0\") si hay GPU)\n",
        "#\n",
        "# Luego, para entrenar:\n",
        "trained_model = train_model(model, train_loader, val_loader, criterion, optimizer, device, num_epochs=10, patience=3)\n"
      ],
      "metadata": {
        "colab": {
          "base_uri": "https://localhost:8080/"
        },
        "id": "2PWt0pQ22rez",
        "outputId": "e1a87572-0fb9-4b63-de68-f09f71c96d4d"
      },
      "execution_count": null,
      "outputs": [
        {
          "output_type": "stream",
          "name": "stdout",
          "text": [
            "Epoch 1/10\n",
            "----------\n"
          ]
        },
        {
          "output_type": "stream",
          "name": "stderr",
          "text": [
            "<ipython-input-17-ae200ec3e4dd>:76: FutureWarning: `torch.cuda.amp.GradScaler(args...)` is deprecated. Please use `torch.amp.GradScaler('cuda', args...)` instead.\n",
            "  scaler = GradScaler()\n",
            "<ipython-input-17-ae200ec3e4dd>:25: FutureWarning: `torch.cuda.amp.autocast(args...)` is deprecated. Please use `torch.amp.autocast('cuda', args...)` instead.\n",
            "  with autocast():\n"
          ]
        },
        {
          "output_type": "stream",
          "name": "stdout",
          "text": [
            "Train Loss: 0.0154  Acc: 0.9942\n"
          ]
        },
        {
          "output_type": "stream",
          "name": "stderr",
          "text": [
            "<ipython-input-17-ae200ec3e4dd>:54: FutureWarning: `torch.cuda.amp.autocast(args...)` is deprecated. Please use `torch.amp.autocast('cuda', args...)` instead.\n",
            "  with autocast():\n"
          ]
        },
        {
          "output_type": "stream",
          "name": "stdout",
          "text": [
            "Val Loss: 0.1899  Acc: 0.9140\n",
            "              precision    recall  f1-score   support\n",
            "\n",
            "       spoof       0.99      0.87      0.93       634\n",
            "        live       0.82      0.99      0.89       366\n",
            "\n",
            "    accuracy                           0.91      1000\n",
            "   macro avg       0.90      0.93      0.91      1000\n",
            "weighted avg       0.93      0.91      0.92      1000\n",
            "\n",
            "Best model saved\n",
            "Checkpoint saved to checkpoint_epoch_1.pth\n",
            "Epoch 2/10\n",
            "----------\n"
          ]
        },
        {
          "output_type": "stream",
          "name": "stderr",
          "text": [
            "<ipython-input-17-ae200ec3e4dd>:25: FutureWarning: `torch.cuda.amp.autocast(args...)` is deprecated. Please use `torch.amp.autocast('cuda', args...)` instead.\n",
            "  with autocast():\n"
          ]
        },
        {
          "output_type": "stream",
          "name": "stdout",
          "text": [
            "Train Loss: 0.0088  Acc: 0.9970\n"
          ]
        },
        {
          "output_type": "stream",
          "name": "stderr",
          "text": [
            "<ipython-input-17-ae200ec3e4dd>:54: FutureWarning: `torch.cuda.amp.autocast(args...)` is deprecated. Please use `torch.amp.autocast('cuda', args...)` instead.\n",
            "  with autocast():\n"
          ]
        },
        {
          "output_type": "stream",
          "name": "stdout",
          "text": [
            "Val Loss: 0.0756  Acc: 0.9660\n",
            "              precision    recall  f1-score   support\n",
            "\n",
            "       spoof       1.00      0.95      0.97       634\n",
            "        live       0.92      1.00      0.96       366\n",
            "\n",
            "    accuracy                           0.97      1000\n",
            "   macro avg       0.96      0.97      0.96      1000\n",
            "weighted avg       0.97      0.97      0.97      1000\n",
            "\n",
            "Best model saved\n",
            "Checkpoint saved to checkpoint_epoch_2.pth\n",
            "Epoch 3/10\n",
            "----------\n"
          ]
        },
        {
          "output_type": "stream",
          "name": "stderr",
          "text": [
            "<ipython-input-17-ae200ec3e4dd>:25: FutureWarning: `torch.cuda.amp.autocast(args...)` is deprecated. Please use `torch.amp.autocast('cuda', args...)` instead.\n",
            "  with autocast():\n"
          ]
        },
        {
          "output_type": "stream",
          "name": "stdout",
          "text": [
            "Train Loss: 0.0047  Acc: 0.9984\n"
          ]
        },
        {
          "output_type": "stream",
          "name": "stderr",
          "text": [
            "<ipython-input-17-ae200ec3e4dd>:54: FutureWarning: `torch.cuda.amp.autocast(args...)` is deprecated. Please use `torch.amp.autocast('cuda', args...)` instead.\n",
            "  with autocast():\n"
          ]
        },
        {
          "output_type": "stream",
          "name": "stdout",
          "text": [
            "Val Loss: 0.0808  Acc: 0.9650\n",
            "              precision    recall  f1-score   support\n",
            "\n",
            "       spoof       1.00      0.95      0.97       634\n",
            "        live       0.92      0.99      0.95       366\n",
            "\n",
            "    accuracy                           0.96      1000\n",
            "   macro avg       0.96      0.97      0.96      1000\n",
            "weighted avg       0.97      0.96      0.97      1000\n",
            "\n",
            "Early stopping trigger: 1/3\n",
            "Checkpoint saved to checkpoint_epoch_3.pth\n",
            "Epoch 4/10\n",
            "----------\n"
          ]
        },
        {
          "output_type": "stream",
          "name": "stderr",
          "text": [
            "<ipython-input-17-ae200ec3e4dd>:25: FutureWarning: `torch.cuda.amp.autocast(args...)` is deprecated. Please use `torch.amp.autocast('cuda', args...)` instead.\n",
            "  with autocast():\n"
          ]
        },
        {
          "output_type": "stream",
          "name": "stdout",
          "text": [
            "Train Loss: 0.0158  Acc: 0.9940\n"
          ]
        },
        {
          "output_type": "stream",
          "name": "stderr",
          "text": [
            "<ipython-input-17-ae200ec3e4dd>:54: FutureWarning: `torch.cuda.amp.autocast(args...)` is deprecated. Please use `torch.amp.autocast('cuda', args...)` instead.\n",
            "  with autocast():\n"
          ]
        },
        {
          "output_type": "stream",
          "name": "stdout",
          "text": [
            "Val Loss: 0.0391  Acc: 0.9900\n",
            "              precision    recall  f1-score   support\n",
            "\n",
            "       spoof       0.99      1.00      0.99       634\n",
            "        live       0.99      0.98      0.99       366\n",
            "\n",
            "    accuracy                           0.99      1000\n",
            "   macro avg       0.99      0.99      0.99      1000\n",
            "weighted avg       0.99      0.99      0.99      1000\n",
            "\n",
            "Best model saved\n",
            "Checkpoint saved to checkpoint_epoch_4.pth\n",
            "Epoch 5/10\n",
            "----------\n"
          ]
        },
        {
          "output_type": "stream",
          "name": "stderr",
          "text": [
            "<ipython-input-17-ae200ec3e4dd>:25: FutureWarning: `torch.cuda.amp.autocast(args...)` is deprecated. Please use `torch.amp.autocast('cuda', args...)` instead.\n",
            "  with autocast():\n"
          ]
        },
        {
          "output_type": "stream",
          "name": "stdout",
          "text": [
            "Train Loss: 0.0294  Acc: 0.9888\n"
          ]
        },
        {
          "output_type": "stream",
          "name": "stderr",
          "text": [
            "<ipython-input-17-ae200ec3e4dd>:54: FutureWarning: `torch.cuda.amp.autocast(args...)` is deprecated. Please use `torch.amp.autocast('cuda', args...)` instead.\n",
            "  with autocast():\n"
          ]
        },
        {
          "output_type": "stream",
          "name": "stdout",
          "text": [
            "Val Loss: 0.0473  Acc: 0.9880\n",
            "              precision    recall  f1-score   support\n",
            "\n",
            "       spoof       0.98      1.00      0.99       634\n",
            "        live       0.99      0.97      0.98       366\n",
            "\n",
            "    accuracy                           0.99      1000\n",
            "   macro avg       0.99      0.98      0.99      1000\n",
            "weighted avg       0.99      0.99      0.99      1000\n",
            "\n",
            "Early stopping trigger: 1/3\n",
            "Checkpoint saved to checkpoint_epoch_5.pth\n",
            "Epoch 6/10\n",
            "----------\n"
          ]
        },
        {
          "output_type": "stream",
          "name": "stderr",
          "text": [
            "<ipython-input-17-ae200ec3e4dd>:25: FutureWarning: `torch.cuda.amp.autocast(args...)` is deprecated. Please use `torch.amp.autocast('cuda', args...)` instead.\n",
            "  with autocast():\n"
          ]
        },
        {
          "output_type": "stream",
          "name": "stdout",
          "text": [
            "Train Loss: 0.0296  Acc: 0.9922\n"
          ]
        },
        {
          "output_type": "stream",
          "name": "stderr",
          "text": [
            "<ipython-input-17-ae200ec3e4dd>:54: FutureWarning: `torch.cuda.amp.autocast(args...)` is deprecated. Please use `torch.amp.autocast('cuda', args...)` instead.\n",
            "  with autocast():\n"
          ]
        },
        {
          "output_type": "stream",
          "name": "stdout",
          "text": [
            "Val Loss: 0.0927  Acc: 0.9620\n",
            "              precision    recall  f1-score   support\n",
            "\n",
            "       spoof       0.99      0.95      0.97       634\n",
            "        live       0.91      0.99      0.95       366\n",
            "\n",
            "    accuracy                           0.96      1000\n",
            "   macro avg       0.95      0.97      0.96      1000\n",
            "weighted avg       0.96      0.96      0.96      1000\n",
            "\n",
            "Early stopping trigger: 2/3\n",
            "Checkpoint saved to checkpoint_epoch_6.pth\n",
            "Epoch 7/10\n",
            "----------\n"
          ]
        },
        {
          "output_type": "stream",
          "name": "stderr",
          "text": [
            "<ipython-input-17-ae200ec3e4dd>:25: FutureWarning: `torch.cuda.amp.autocast(args...)` is deprecated. Please use `torch.amp.autocast('cuda', args...)` instead.\n",
            "  with autocast():\n"
          ]
        },
        {
          "output_type": "stream",
          "name": "stdout",
          "text": [
            "Train Loss: 0.0148  Acc: 0.9954\n"
          ]
        },
        {
          "output_type": "stream",
          "name": "stderr",
          "text": [
            "<ipython-input-17-ae200ec3e4dd>:54: FutureWarning: `torch.cuda.amp.autocast(args...)` is deprecated. Please use `torch.amp.autocast('cuda', args...)` instead.\n",
            "  with autocast():\n"
          ]
        },
        {
          "output_type": "stream",
          "name": "stdout",
          "text": [
            "Val Loss: 0.0399  Acc: 0.9830\n",
            "              precision    recall  f1-score   support\n",
            "\n",
            "       spoof       1.00      0.98      0.99       634\n",
            "        live       0.96      0.99      0.98       366\n",
            "\n",
            "    accuracy                           0.98      1000\n",
            "   macro avg       0.98      0.98      0.98      1000\n",
            "weighted avg       0.98      0.98      0.98      1000\n",
            "\n",
            "Early stopping trigger: 3/3\n",
            "Early stopping!\n"
          ]
        }
      ]
    },
    {
      "cell_type": "code",
      "source": [
        "import numpy as np\n",
        "import sklearn.metrics as metrics\n",
        "import seaborn as sns\n",
        "import matplotlib.pyplot as plt\n",
        "import torch\n",
        "\n",
        "def test_model(model, test_loader, criterion, device):\n",
        "    model.eval()\n",
        "    all_preds = []\n",
        "    all_labels = []\n",
        "    test_loss = 0.0\n",
        "    total_samples = 0\n",
        "\n",
        "    # Usar autocast para precisión mixta en la inferencia\n",
        "    with torch.no_grad():\n",
        "        for inputs, labels in test_loader:\n",
        "            inputs, labels = inputs.to(device), labels.to(device)\n",
        "            with torch.cuda.amp.autocast():\n",
        "                outputs = model(inputs)\n",
        "                loss = criterion(outputs, labels)\n",
        "            _, preds = torch.max(outputs, 1)\n",
        "            test_loss += loss.item() * inputs.size(0)\n",
        "            total_samples += inputs.size(0)\n",
        "            all_preds.extend(preds.cpu().numpy())\n",
        "            all_labels.extend(labels.cpu().numpy())\n",
        "\n",
        "    avg_loss = test_loss / total_samples\n",
        "    print(f'Test Loss: {avg_loss:.4f}')\n",
        "\n",
        "    # Convertir a arrays de numpy\n",
        "    all_preds = np.array(all_preds)\n",
        "    all_labels = np.array(all_labels)\n",
        "\n",
        "    # Calcular la matriz de confusión y el reporte de clasificación\n",
        "    cm = metrics.confusion_matrix(all_labels, all_preds)\n",
        "    report = metrics.classification_report(all_labels, all_preds, target_names=[\"spoof\", \"live\"], zero_division=0)\n",
        "\n",
        "    print(\"Matriz de Confusión:\")\n",
        "    print(cm)\n",
        "    print(\"Reporte de Clasificación:\")\n",
        "    print(report)\n",
        "\n",
        "    # Visualizar la matriz de confusión\n",
        "    sns.heatmap(cm, annot=True, fmt='d', cmap='Blues',\n",
        "                xticklabels=[\"spoof\", \"live\"],\n",
        "                yticklabels=[\"spoof\", \"live\"])\n",
        "    plt.xlabel(\"Predicción\")\n",
        "    plt.ylabel(\"Real\")\n",
        "    plt.title(\"Matriz de Confusión\")\n",
        "    plt.show()\n",
        "\n",
        "    return avg_loss, report, cm\n",
        "\n",
        "test_data_dir2 = '/content/drive/Othercomputers/My Mac/Data/test'\n",
        "\n",
        "test_dataset2 = CelebASpoofDataset(\n",
        "    root_dir=test_data_dir2,\n",
        "    transform=data_transforms['test'],\n",
        "    cache_file='/content/drive/MyDrive/Tesis UTDT/test_dataset_cache2.pkl',\n",
        "    max_samples=10000\n",
        ")\n",
        "\n",
        "\n",
        "# DataLoaders\n",
        "test_loader2 = DataLoader(test_dataset2, batch_size=batch_size, shuffle=False, num_workers=8, pin_memory=True)\n",
        "\n",
        "\n",
        "# Ejemplo de uso:\n",
        "test_loss, test_report, test_cm = test_model(model, test_loader2, criterion, device)\n"
      ],
      "metadata": {
        "colab": {
          "base_uri": "https://localhost:8080/",
          "height": 787
        },
        "id": "uqMFNPAW34cf",
        "outputId": "0686c439-d243-470e-ba09-81940f0f3f53"
      },
      "execution_count": null,
      "outputs": [
        {
          "output_type": "stream",
          "name": "stdout",
          "text": [
            "Cargando dataset desde cache...\n"
          ]
        },
        {
          "output_type": "stream",
          "name": "stderr",
          "text": [
            "<ipython-input-24-9a5e2b61b5c5>:18: FutureWarning: `torch.cuda.amp.autocast(args...)` is deprecated. Please use `torch.amp.autocast('cuda', args...)` instead.\n",
            "  with torch.cuda.amp.autocast():\n"
          ]
        },
        {
          "output_type": "stream",
          "name": "stdout",
          "text": [
            "Test Loss: 1.2223\n",
            "Matriz de Confusión:\n",
            "[[2190 3135]\n",
            " [  32 4643]]\n",
            "Reporte de Clasificación:\n",
            "              precision    recall  f1-score   support\n",
            "\n",
            "       spoof       0.99      0.41      0.58      5325\n",
            "        live       0.60      0.99      0.75      4675\n",
            "\n",
            "    accuracy                           0.68     10000\n",
            "   macro avg       0.79      0.70      0.66     10000\n",
            "weighted avg       0.80      0.68      0.66     10000\n",
            "\n"
          ]
        },
        {
          "output_type": "display_data",
          "data": {
            "text/plain": [
              "<Figure size 640x480 with 2 Axes>"
            ],
            "image/png": "[encoded data removed]"
          },
          "metadata": {}
        }
      ]
    },
    {
      "cell_type": "code",
      "source": [],
      "metadata": {
        "id": "U5OKbCKsyHDt"
      },
      "execution_count": null,
      "outputs": []
    }
  ],
  "metadata": {
    "accelerator": "GPU",
    "colab": {
      "gpuType": "A100",
      "provenance": [],
      "history_visible": true,
      "machine_shape": "hm",
      "mount_file_id": "1dNq1p8q_inhSmI0LD0IU5Z7jrx4uWikp",
      "authorship_tag": "ABX9TyPUfhAo8NcjW9NCDEbK2Hb0",
      "include_colab_link": true
    },
    "kernelspec": {
      "display_name": "Python 3",
      "name": "python3"
    },
    "language_info": {
      "name": "python"
    }
  },
  "nbformat": 4,
  "nbformat_minor": 0
}